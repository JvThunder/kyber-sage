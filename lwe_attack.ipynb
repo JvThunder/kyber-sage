{
 "cells": [
  {
   "cell_type": "code",
   "execution_count": 93,
   "metadata": {
    "vscode": {
     "languageId": "sage"
    }
   },
   "outputs": [],
   "source": [
    "from fpylll import IntegerMatrix, LLL\n",
    "import numpy as np"
   ]
  },
  {
   "cell_type": "code",
   "execution_count": 94,
   "metadata": {
    "vscode": {
     "languageId": "sage"
    }
   },
   "outputs": [],
   "source": [
    "from sage.all import Matrix, vector, identity_matrix, zero_matrix, ZZ"
   ]
  },
  {
   "cell_type": "code",
   "execution_count": 95,
   "metadata": {
    "vscode": {
     "languageId": "sage"
    }
   },
   "outputs": [],
   "source": [
    "q = 101  # Replace with your desired modulus (q must be prime for a field)\n",
    "# Zq = GF(q)\n",
    "Zq = GF(q)"
   ]
  },
  {
   "cell_type": "code",
   "execution_count": 96,
   "metadata": {
    "vscode": {
     "languageId": "sage"
    }
   },
   "outputs": [],
   "source": [
    "A = Matrix(Zq, [\n",
    "    [64, 6, 77],\n",
    "    [57, 89, 82],\n",
    "    [24, 3, 91],\n",
    "    [14, 99, 63],\n",
    "    [18, 30, 89],\n",
    "    [35, 22, 86],\n",
    "    [77, 55, 76]\n",
    "])\n",
    "m, n = A.dimensions()\n",
    "b = vector(Zq, [76, 27, 19, 77, 91, 61, 46])"
   ]
  },
  {
   "cell_type": "code",
   "execution_count": 97,
   "metadata": {
    "vscode": {
     "languageId": "sage"
    }
   },
   "outputs": [],
   "source": [
    "A = Matrix(Zq, [\n",
    "    [64, 6, 77],\n",
    "    [57, 89, 82],\n",
    "    [21, 3, 91],\n",
    "    [14, 91, 63],\n",
    "    [18, 30, 29],\n",
    "    [35, 22, 86],\n",
    "    [77, 55, 76]\n",
    "])\n",
    "m, n = A.dimensions()"
   ]
  },
  {
   "cell_type": "code",
   "execution_count": 98,
   "metadata": {
    "vscode": {
     "languageId": "sage"
    }
   },
   "outputs": [],
   "source": [
    "s = vector(Zq, [1, 2, 3])\n",
    "e = vector(Zq, [1, 0, -1, 0, 1, 0, -1])\n",
    "b = A * s + e"
   ]
  },
  {
   "cell_type": "code",
   "execution_count": 111,
   "metadata": {
    "vscode": {
     "languageId": "sage"
    }
   },
   "outputs": [],
   "source": [
    "def primal_attack(A, b):\n",
    "    # Defining the matrix w for LLL reduction\n",
    "    A_transpose = A.transpose()\n",
    "    A_prime = A_transpose.rref().transpose()\n",
    "    \n",
    "    zero_row = Matrix(Zq, 1, n, [0, 0, 0])\n",
    "    \n",
    "    w = A_prime.stack(zero_row)\n",
    "    w = w.augment(vector(Zq, list(b)+[1]))\n",
    "    \n",
    "    ll = q * identity_matrix(m - n)\n",
    "    lu = zero_matrix(n, m - n)\n",
    "    l = lu.stack(ll).stack(zero_matrix(1, m-n))\n",
    "    \n",
    "    w = w.change_ring(ZZ)\n",
    "    w = w.augment(l)\n",
    "\n",
    "    # permute the rows of w randomly\n",
    "    permutation = np.random.permutation(w.nrows()) + 1\n",
    "    permutation = Permutation(permutation)\n",
    "    \n",
    "    b = [x for x in b] + [1]\n",
    "    print(permutation)\n",
    "    print(b)\n",
    "    b_perm = vector([b[int(i-1)] for i in permutation])\n",
    "    w.permute_rows(permutation)\n",
    "    print(w)\n",
    "\n",
    "    w_transpose = w.transpose()\n",
    "    w_transpose.LLL()\n",
    "    \n",
    "    # Perform LLL reduction and solve for s and e\n",
    "    e = w_transpose.LLL()[0][:-1]\n",
    "    s_pred = A.solve_right(b_perm - e)\n",
    "    return s_pred, e"
   ]
  },
  {
   "cell_type": "code",
   "execution_count": null,
   "metadata": {
    "vscode": {
     "languageId": "sage"
    }
   },
   "outputs": [],
   "source": []
  },
  {
   "cell_type": "code",
   "execution_count": 112,
   "metadata": {
    "vscode": {
     "languageId": "sage"
    }
   },
   "outputs": [
    {
     "name": "stdout",
     "output_type": "stream",
     "text": [
      "[7, 8, 4, 1, 3, 5, 2, 6]\n",
      "[5, 77, 97, 82, 65, 34, 10, 1]\n",
      "[ 79  65  53  10   0   0   0 101]\n",
      "[  0   0   0   1   0   0   0   0]\n",
      "[ 28  17  76  82 101   0   0   0]\n",
      "[  1   0   0   5   0   0   0   0]\n",
      "[  0   0   1  97   0   0   0   0]\n",
      "[ 97  58  48  65   0 101   0   0]\n",
      "[  0   1   0  77   0   0   0   0]\n",
      "[ 82  10  18  34   0   0 101   0]\n"
     ]
    },
    {
     "ename": "TypeError",
     "evalue": "unsupported operand parent(s) for -: 'Vector space of dimension 8 over Finite Field of size 101' and 'Ambient free module of rank 7 over the principal ideal domain Integer Ring'",
     "output_type": "error",
     "traceback": [
      "\u001b[0;31m---------------------------------------------------------------------------\u001b[0m",
      "\u001b[0;31mTypeError\u001b[0m                                 Traceback (most recent call last)",
      "Cell \u001b[0;32mIn[112], line 1\u001b[0m\n\u001b[0;32m----> 1\u001b[0m \u001b[43mprimal_attack\u001b[49m\u001b[43m(\u001b[49m\u001b[43mA\u001b[49m\u001b[43m,\u001b[49m\u001b[43m \u001b[49m\u001b[43mb\u001b[49m\u001b[43m)\u001b[49m\n",
      "Cell \u001b[0;32mIn[111], line 34\u001b[0m, in \u001b[0;36mprimal_attack\u001b[0;34m(A, b)\u001b[0m\n\u001b[1;32m     32\u001b[0m \u001b[38;5;66;03m# Perform LLL reduction and solve for s and e\u001b[39;00m\n\u001b[1;32m     33\u001b[0m e \u001b[38;5;241m=\u001b[39m w_transpose\u001b[38;5;241m.\u001b[39mLLL()[Integer(\u001b[38;5;241m0\u001b[39m)][:\u001b[38;5;241m-\u001b[39mInteger(\u001b[38;5;241m1\u001b[39m)]\n\u001b[0;32m---> 34\u001b[0m s_pred \u001b[38;5;241m=\u001b[39m A\u001b[38;5;241m.\u001b[39msolve_right(\u001b[43mb_perm\u001b[49m\u001b[43m \u001b[49m\u001b[38;5;241;43m-\u001b[39;49m\u001b[43m \u001b[49m\u001b[43me\u001b[49m)\n\u001b[1;32m     35\u001b[0m \u001b[38;5;28;01mreturn\u001b[39;00m s_pred, e\n",
      "File \u001b[0;32m~/anaconda/envs/sage/lib/python3.9/site-packages/sage/structure/element.pyx:1358\u001b[0m, in \u001b[0;36msage.structure.element.Element.__sub__ (build/cythonized/sage/structure/element.c:11718)\u001b[0;34m()\u001b[0m\n\u001b[1;32m   1356\u001b[0m     return (<Element>left)._sub_(right)\n\u001b[1;32m   1357\u001b[0m if BOTH_ARE_ELEMENT(cl):\n\u001b[0;32m-> 1358\u001b[0m     return coercion_model.bin_op(left, right, sub)\n\u001b[1;32m   1359\u001b[0m \n\u001b[1;32m   1360\u001b[0m try:\n",
      "File \u001b[0;32m~/anaconda/envs/sage/lib/python3.9/site-packages/sage/structure/coerce.pyx:1248\u001b[0m, in \u001b[0;36msage.structure.coerce.CoercionModel.bin_op (build/cythonized/sage/structure/coerce.c:11894)\u001b[0;34m()\u001b[0m\n\u001b[1;32m   1246\u001b[0m     # We should really include the underlying error.\n\u001b[1;32m   1247\u001b[0m     # This causes so much headache.\n\u001b[0;32m-> 1248\u001b[0m     raise bin_op_exception(op, x, y)\n\u001b[1;32m   1249\u001b[0m \n\u001b[1;32m   1250\u001b[0m cpdef canonical_coercion(self, x, y):\n",
      "\u001b[0;31mTypeError\u001b[0m: unsupported operand parent(s) for -: 'Vector space of dimension 8 over Finite Field of size 101' and 'Ambient free module of rank 7 over the principal ideal domain Integer Ring'"
     ]
    }
   ],
   "source": [
    "primal_attack(A, b)"
   ]
  },
  {
   "cell_type": "code",
   "execution_count": null,
   "metadata": {
    "vscode": {
     "languageId": "sage"
    }
   },
   "outputs": [],
   "source": []
  },
  {
   "cell_type": "code",
   "execution_count": null,
   "metadata": {
    "vscode": {
     "languageId": "sage"
    }
   },
   "outputs": [],
   "source": []
  },
  {
   "cell_type": "code",
   "execution_count": 9,
   "metadata": {
    "vscode": {
     "languageId": "sage"
    }
   },
   "outputs": [],
   "source": [
    "A_transpose = A.transpose()\n",
    "rref_a_transpose = A_transpose.rref()[0]"
   ]
  },
  {
   "cell_type": "code",
   "execution_count": 10,
   "metadata": {
    "vscode": {
     "languageId": "sage"
    }
   },
   "outputs": [
    {
     "data": {
      "text/plain": [
       "[ 1  0  0]\n",
       "[ 0  1  0]\n",
       "[ 0  0  1]\n",
       "[28 17 76]\n",
       "[97 58 48]\n",
       "[82 10 18]\n",
       "[79 65 53]"
      ]
     },
     "execution_count": 10,
     "metadata": {},
     "output_type": "execute_result"
    }
   ],
   "source": [
    "A_prime = A_transpose.rref().transpose()\n",
    "A_prime "
   ]
  },
  {
   "cell_type": "code",
   "execution_count": 11,
   "metadata": {
    "vscode": {
     "languageId": "sage"
    }
   },
   "outputs": [],
   "source": [
    "zero_row = Matrix(Zq, 1, n, [0, 0, 0])"
   ]
  },
  {
   "cell_type": "code",
   "execution_count": 12,
   "metadata": {
    "vscode": {
     "languageId": "sage"
    }
   },
   "outputs": [],
   "source": [
    "w = A_prime.stack(zero_row)"
   ]
  },
  {
   "cell_type": "code",
   "execution_count": 13,
   "metadata": {
    "vscode": {
     "languageId": "sage"
    }
   },
   "outputs": [],
   "source": [
    "w = w.augment(vector(Zq, list(b)+[1]))"
   ]
  },
  {
   "cell_type": "code",
   "execution_count": 14,
   "metadata": {
    "vscode": {
     "languageId": "sage"
    }
   },
   "outputs": [
    {
     "data": {
      "text/plain": [
       "[ 1  0  0  5]\n",
       "[ 0  1  0 77]\n",
       "[ 0  0  1 97]\n",
       "[28 17 76 82]\n",
       "[97 58 48 65]\n",
       "[82 10 18 34]\n",
       "[79 65 53 10]\n",
       "[ 0  0  0  1]"
      ]
     },
     "execution_count": 14,
     "metadata": {},
     "output_type": "execute_result"
    }
   ],
   "source": [
    "w"
   ]
  },
  {
   "cell_type": "code",
   "execution_count": 15,
   "metadata": {
    "vscode": {
     "languageId": "sage"
    }
   },
   "outputs": [],
   "source": [
    "ll = q * identity_matrix(m - n)\n",
    "lu = zero_matrix(n, m - n)"
   ]
  },
  {
   "cell_type": "code",
   "execution_count": 16,
   "metadata": {
    "vscode": {
     "languageId": "sage"
    }
   },
   "outputs": [
    {
     "data": {
      "text/plain": [
       "[  0   0   0   0]\n",
       "[  0   0   0   0]\n",
       "[  0   0   0   0]\n",
       "[101   0   0   0]\n",
       "[  0 101   0   0]\n",
       "[  0   0 101   0]\n",
       "[  0   0   0 101]\n",
       "[  0   0   0   0]"
      ]
     },
     "execution_count": 16,
     "metadata": {},
     "output_type": "execute_result"
    }
   ],
   "source": [
    "l = lu.stack(ll).stack(zero_matrix(1, m-n))\n",
    "l"
   ]
  },
  {
   "cell_type": "code",
   "execution_count": 17,
   "metadata": {
    "vscode": {
     "languageId": "sage"
    }
   },
   "outputs": [
    {
     "data": {
      "text/plain": [
       "(\n",
       "[ 1  0  0  5]  [  0   0   0   0]\n",
       "[ 0  1  0 77]  [  0   0   0   0]\n",
       "[ 0  0  1 97]  [  0   0   0   0]\n",
       "[28 17 76 82]  [101   0   0   0]\n",
       "[97 58 48 65]  [  0 101   0   0]\n",
       "[82 10 18 34]  [  0   0 101   0]\n",
       "[79 65 53 10]  [  0   0   0 101]\n",
       "[ 0  0  0  1], [  0   0   0   0]\n",
       ")"
      ]
     },
     "execution_count": 17,
     "metadata": {},
     "output_type": "execute_result"
    }
   ],
   "source": [
    "w, l"
   ]
  },
  {
   "cell_type": "code",
   "execution_count": 18,
   "metadata": {
    "vscode": {
     "languageId": "sage"
    }
   },
   "outputs": [],
   "source": [
    "w = w.change_ring(ZZ)"
   ]
  },
  {
   "cell_type": "code",
   "execution_count": 19,
   "metadata": {
    "vscode": {
     "languageId": "sage"
    }
   },
   "outputs": [
    {
     "data": {
      "text/plain": [
       "[ 1  0  0  5]\n",
       "[ 0  1  0 77]\n",
       "[ 0  0  1 97]\n",
       "[28 17 76 82]\n",
       "[97 58 48 65]\n",
       "[82 10 18 34]\n",
       "[79 65 53 10]\n",
       "[ 0  0  0  1]"
      ]
     },
     "execution_count": 19,
     "metadata": {},
     "output_type": "execute_result"
    }
   ],
   "source": [
    "w"
   ]
  },
  {
   "cell_type": "code",
   "execution_count": 20,
   "metadata": {
    "vscode": {
     "languageId": "sage"
    }
   },
   "outputs": [],
   "source": [
    "w = w.augment(l)"
   ]
  },
  {
   "cell_type": "code",
   "execution_count": 24,
   "metadata": {
    "vscode": {
     "languageId": "sage"
    }
   },
   "outputs": [
    {
     "data": {
      "text/plain": [
       "[  1   0   0  28  97  82  79   0]\n",
       "[  0   1   0  17  58  10  65   0]\n",
       "[  0   0   1  76  48  18  53   0]\n",
       "[  5  77  97  82  65  34  10   1]\n",
       "[  0   0   0 101   0   0   0   0]\n",
       "[  0   0   0   0 101   0   0   0]\n",
       "[  0   0   0   0   0 101   0   0]\n",
       "[  0   0   0   0   0   0 101   0]"
      ]
     },
     "execution_count": 24,
     "metadata": {},
     "output_type": "execute_result"
    }
   ],
   "source": [
    "w_transpose"
   ]
  },
  {
   "cell_type": "code",
   "execution_count": 25,
   "metadata": {
    "vscode": {
     "languageId": "sage"
    }
   },
   "outputs": [
    {
     "data": {
      "text/plain": [
       "[  1   0  -1   0   1   0  -1   1]\n",
       "[  2  -2   9  -1   5   3   0   0]\n",
       "[  6   2   0   0  -9   7  -2   0]\n",
       "[  4   4   5   2   4 -10   6   1]\n",
       "[  0   9   6   3   2  -4  -6   0]\n",
       "[ -3  -6   1   6   0  -5  -8  -6]\n",
       "[ -1  -5  -4   7   7   5   4  -8]\n",
       "[ -5  -5   0  10   0   1   0   7]"
      ]
     },
     "execution_count": 25,
     "metadata": {},
     "output_type": "execute_result"
    }
   ],
   "source": [
    "w_transpose = w.transpose()\n",
    "w_transpose.LLL()"
   ]
  },
  {
   "cell_type": "code",
   "execution_count": 23,
   "metadata": {
    "vscode": {
     "languageId": "sage"
    }
   },
   "outputs": [
    {
     "data": {
      "text/plain": [
       "(1, 2, 3)"
      ]
     },
     "execution_count": 23,
     "metadata": {},
     "output_type": "execute_result"
    }
   ],
   "source": [
    "e = w_transpose.LLL()[0][:-1]\n",
    "A.solve_right(b - e)"
   ]
  },
  {
   "cell_type": "code",
   "execution_count": null,
   "metadata": {
    "vscode": {
     "languageId": "sage"
    }
   },
   "outputs": [],
   "source": []
  }
 ],
 "metadata": {
  "kernelspec": {
   "display_name": "SageMath 9.7",
   "language": "sage",
   "name": "sagemath"
  },
  "language_info": {
   "codemirror_mode": {
    "name": "ipython",
    "version": 3
   },
   "file_extension": ".py",
   "mimetype": "text/x-python",
   "name": "python",
   "nbconvert_exporter": "python",
   "pygments_lexer": "ipython3",
   "version": "3.9.13"
  }
 },
 "nbformat": 4,
 "nbformat_minor": 2
}
